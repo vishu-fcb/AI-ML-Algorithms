{
 "cells": [
  {
   "cell_type": "code",
   "execution_count": 1,
   "id": "5eddb3b8-4f5b-457c-90c9-2abf7b30f632",
   "metadata": {},
   "outputs": [
    {
     "name": "stdout",
     "output_type": "stream",
     "text": [
      "* Running on local URL:  http://127.0.0.1:7863\n",
      "\n",
      "Could not create share link. Please check your internet connection or our status page: https://status.gradio.app.\n"
     ]
    },
    {
     "data": {
      "text/html": [
       "<div><iframe src=\"http://127.0.0.1:7863/\" width=\"100%\" height=\"500\" allow=\"autoplay; camera; microphone; clipboard-read; clipboard-write;\" frameborder=\"0\" allowfullscreen></iframe></div>"
      ],
      "text/plain": [
       "<IPython.core.display.HTML object>"
      ]
     },
     "metadata": {},
     "output_type": "display_data"
    },
    {
     "data": {
      "text/plain": []
     },
     "execution_count": 1,
     "metadata": {},
     "output_type": "execute_result"
    }
   ],
   "source": [
    "# -------------------------------\n",
    "# 🧠 Smart Tech Assistant\n",
    "# A dual-model chatbot using OpenAI & Ollama with Gradio UI\n",
    "# -------------------------------\n",
    "\n",
    "import os\n",
    "from dotenv import load_dotenv\n",
    "from openai import OpenAI\n",
    "import gradio as gr\n",
    "\n",
    "# Load environment variables (API keys from .env file)\n",
    "load_dotenv()\n",
    "api_key = os.getenv(\"OPENAI_API_KEY\")\n",
    "\n",
    "# Model identifiers\n",
    "MODEL_OPENAI = \"gpt-4o-mini\"\n",
    "MODEL_OLLAMA = \"llama3.2\"\n",
    "\n",
    "# Create OpenAI client (official OpenAI)\n",
    "openai_official = OpenAI(api_key=api_key)\n",
    "\n",
    "# Create OpenAI-compatible client for local Ollama instance\n",
    "openai_ollama = OpenAI(base_url=\"http://localhost:11434/v1\", api_key=\"ollama\")\n",
    "\n",
    "# Default assistant instruction\n",
    "DEFAULT_SYSTEM_PROMPT = (\n",
    "    \"You are a helpful technical teaching assistant. Analyze the user's question carefully, \"\n",
    "    \"respond in detail using markdown formatting, and include references where relevant.\"\n",
    ")\n",
    "\n",
    "# Build the system message for LLM\n",
    "def build_initial_prompt(system_prompt):\n",
    "    return {\"role\": \"system\", \"content\": system_prompt}\n",
    "\n",
    "# Generate the assistant response using chosen model\n",
    "def generate_response(model_choice, chat_history):\n",
    "    if not chat_history:\n",
    "        return \"Please enter a question.\"\n",
    "\n",
    "    # Select client and model\n",
    "    client = openai_official if model_choice == \"OpenAI GPT-4o-mini 🔵\" else openai_ollama\n",
    "    model = MODEL_OPENAI if model_choice == \"OpenAI GPT-4o-mini 🔵\" else MODEL_OLLAMA\n",
    "\n",
    "    try:\n",
    "        response = client.chat.completions.create(\n",
    "            model=model,\n",
    "            messages=chat_history,\n",
    "        )\n",
    "        return response.choices[0].message.content\n",
    "    except Exception as e:\n",
    "        return f\"❌ Error: {str(e)}\"\n",
    "\n",
    "# Core chat interaction function\n",
    "def chat_interface(user_input, model_choice, system_prompt, history):\n",
    "    if history is None:\n",
    "        history = []\n",
    "\n",
    "    messages = [build_initial_prompt(system_prompt)]\n",
    "    for item in history:\n",
    "        messages.append(item)\n",
    "    messages.append({\"role\": \"user\", \"content\": user_input})\n",
    "\n",
    "    # Show thinking placeholder\n",
    "    history.append({\"role\": \"user\", \"content\": user_input})\n",
    "    history.append({\"role\": \"assistant\", \"content\": \"⏳ Thinking...\"})\n",
    "    yield history, history\n",
    "\n",
    "    answer = generate_response(model_choice, messages)\n",
    "    history[-1][\"content\"] = answer\n",
    "    yield history, history\n",
    "\n",
    "\n",
    "# -------------------------------\n",
    "# 🎨 Gradio UI\n",
    "# -------------------------------\n",
    "\n",
    "with gr.Blocks(title=\"🧠 Smart Tech Assistant\", theme=gr.themes.Soft()) as demo:\n",
    "    gr.Markdown(\"\"\"\n",
    "    <div style=\"text-align: center; font-size: 1.5em; font-weight: bold;\">\n",
    "    🤖 Ask Me Anything – Powered by OpenAI & Ollama\n",
    "    </div>\n",
    "    \"\"\")\n",
    "    \n",
    "    with gr.Row():\n",
    "        model_choice = gr.Dropdown(\n",
    "            [\"OpenAI GPT-4o-mini 🔵\", \"Ollama LLaMA 3.2 🟢\"],\n",
    "            label=\"Select your preferred model\",\n",
    "            value=\"OpenAI GPT-4o-mini 🔵\"\n",
    "        )\n",
    "        clear_btn = gr.Button(\"🧹 Clear Chat\", variant=\"secondary\")\n",
    "\n",
    "    system_prompt = gr.Textbox(\n",
    "        label=\"System Prompt (Optional)\",\n",
    "        value=DEFAULT_SYSTEM_PROMPT,\n",
    "        lines=2\n",
    "    )\n",
    "\n",
    "    chatbot = gr.Chatbot(label=\"💬 Assistant Chat\", show_copy_button=True, type=\"messages\")\n",
    "    user_input = gr.Textbox(placeholder=\"Type your technical question here...\", show_label=False)\n",
    "    state = gr.State([])\n",
    "\n",
    "    with gr.Row():\n",
    "        submit_btn = gr.Button(\"🚀 Ask\", variant=\"primary\")\n",
    "\n",
    "    # Event handlers\n",
    "    submit_btn.click(chat_interface,\n",
    "                     inputs=[user_input, model_choice, system_prompt, state],\n",
    "                     outputs=[chatbot, state])\n",
    "    user_input.submit(chat_interface,\n",
    "                      inputs=[user_input, model_choice, system_prompt, state],\n",
    "                      outputs=[chatbot, state])\n",
    "    clear_btn.click(lambda: ([], []), outputs=[chatbot, state])\n",
    "\n",
    "# Run app in notebook\n",
    "demo.launch(inline=True, share=True)\n",
    "\n"
   ]
  },
  {
   "cell_type": "code",
   "execution_count": null,
   "id": "6a24cd92-bb73-45fe-b542-0c924f663f62",
   "metadata": {},
   "outputs": [],
   "source": []
  }
 ],
 "metadata": {
  "kernelspec": {
   "display_name": "Python 3 (ipykernel)",
   "language": "python",
   "name": "python3"
  },
  "language_info": {
   "codemirror_mode": {
    "name": "ipython",
    "version": 3
   },
   "file_extension": ".py",
   "mimetype": "text/x-python",
   "name": "python",
   "nbconvert_exporter": "python",
   "pygments_lexer": "ipython3",
   "version": "3.13.4"
  }
 },
 "nbformat": 4,
 "nbformat_minor": 5
}
